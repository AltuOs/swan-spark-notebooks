{
 "cells": [
  {
   "cell_type": "markdown",
   "metadata": {},
   "source": [
    "<img src=\"https://swan.web.cern.ch/sites/swan.web.cern.ch/files/pictures/logo_swan_letters.png\" alt=\"SWAN\" style=\"float: left; width: 20%; margin-right: 15%; margin-left: 15%; margin-bottom: 2.0em;\">\n",
    "<img src=\"https://spark.apache.org/images/spark-logo-trademark.png\" alt=\"EP-SFT\" style=\"float: left; width: 25%; margin-right: 15%; margin-bottom: 2.0em;\">\n",
    "<p style=\"clear: both;\">\n",
    "<div style=\"text-align:center\"><h1>Integration of SWAN with Spark clusters</h1></div>\n",
    "<hr style=\"border-top-width: 4px; border-top-color: #34609b;\">"
   ]
  },
  {
   "cell_type": "markdown",
   "metadata": {},
   "source": [
    "The current setup allows to execute PySpark operations on CERN Hadoop and Spark clusters. \n",
    "\n",
    "This notebook illustrates the use of __Spark in SWAN to access CERN Accelerator logging service data__."
   ]
  },
  {
   "cell_type": "markdown",
   "metadata": {},
   "source": [
    "### Connect to the cluster (NXCals)"
   ]
  },
  {
   "cell_type": "markdown",
   "metadata": {},
   "source": [
    "To connect to a cluster, click on the star button on the top and follow the instructions\n",
    "* The star button only appears if you have selected a SPARK cluster in the configuration\n",
    "* The star button is active after the notebook kernel is ready"
   ]
  },
  {
   "cell_type": "markdown",
   "metadata": {},
   "source": [
    "### Read the NxCALS device properties into spark dataframe"
   ]
  },
  {
   "cell_type": "code",
   "execution_count": 7,
   "metadata": {},
   "outputs": [
    {
     "name": "stdout",
     "output_type": "stream",
     "text": [
      "root\n",
      " |-- PinDiodeVoltageOutOfRange: boolean (nullable = true)\n",
      " |-- Radfet1VoltageOutOfRange: boolean (nullable = true)\n",
      " |-- Radfet2VoltageOutOfRange: boolean (nullable = true)\n",
      " |-- __record_timestamp__: long (nullable = true)\n",
      " |-- __record_version__: long (nullable = true)\n",
      " |-- acqStamp: long (nullable = true)\n",
      " |-- class: string (nullable = true)\n",
      " |-- current_18V: double (nullable = true)\n",
      " |-- current_8V5: double (nullable = true)\n",
      " |-- current_memBanks: double (nullable = true)\n",
      " |-- current_radfet: double (nullable = true)\n",
      " |-- cyclestamp: long (nullable = true)\n",
      " |-- device: string (nullable = true)\n",
      " |-- nxcals_entity_id: long (nullable = true)\n",
      " |-- property: string (nullable = true)\n",
      " |-- pt100Value: double (nullable = true)\n",
      " |-- selector: string (nullable = true)\n",
      " |-- temperatureDeported: double (nullable = true)\n",
      " |-- temperatureSensorBoard: double (nullable = true)\n",
      " |-- voltage_18V: double (nullable = true)\n",
      " |-- voltage_3V3: double (nullable = true)\n",
      " |-- voltage_3VNeg: double (nullable = true)\n",
      " |-- voltage_5V: double (nullable = true)\n",
      " |-- voltage_memoryBank2: double (nullable = true)\n",
      " |-- voltage_sensorAdcRef: double (nullable = true)\n",
      " |-- warningBits: integer (nullable = true)\n",
      "\n"
     ]
    }
   ],
   "source": [
    "# source the nxcals python libs\n",
    "\n",
    "from cern.accsoft.nxcals.pyquery.builders import *\n",
    "\n",
    "# build the query\n",
    "query = DevicePropertyQueryBuilder().system(\"CMW\").device(\"RADMON.PS-10\").property(\"ExpertMonitoringAcquisition\") \\\n",
    "    .start_time(\"2018-04-29 00:00:00.000\").end_time(\"2018-05-01 00:00:00.000\").build()\n",
    "\n",
    "# read the devices and properties into spark dataframe\n",
    "df1 = spark.read.format(\"cern.accsoft.nxcals.data.access.api\").options(**query.get_map()).load()\n",
    "\n",
    "# print the schema\n",
    "df1.printSchema()"
   ]
  },
  {
   "cell_type": "markdown",
   "metadata": {},
   "source": [
    "### Inspect data"
   ]
  },
  {
   "cell_type": "code",
   "execution_count": 8,
   "metadata": {},
   "outputs": [
    {
     "data": {
      "text/html": [
       "<div>\n",
       "<style scoped>\n",
       "    .dataframe tbody tr th:only-of-type {\n",
       "        vertical-align: middle;\n",
       "    }\n",
       "\n",
       "    .dataframe tbody tr th {\n",
       "        vertical-align: top;\n",
       "    }\n",
       "\n",
       "    .dataframe thead th {\n",
       "        text-align: right;\n",
       "    }\n",
       "</style>\n",
       "<table border=\"1\" class=\"dataframe\">\n",
       "  <thead>\n",
       "    <tr style=\"text-align: right;\">\n",
       "      <th></th>\n",
       "      <th>acqStamp</th>\n",
       "      <th>voltage_18V</th>\n",
       "      <th>current_18V</th>\n",
       "      <th>device</th>\n",
       "      <th>pt100Value</th>\n",
       "    </tr>\n",
       "  </thead>\n",
       "  <tbody>\n",
       "    <tr>\n",
       "      <th>0</th>\n",
       "      <td>1524960103132865000</td>\n",
       "      <td>NaN</td>\n",
       "      <td>37.301794</td>\n",
       "      <td>RADMON.PS-10</td>\n",
       "      <td>106.578911</td>\n",
       "    </tr>\n",
       "    <tr>\n",
       "      <th>1</th>\n",
       "      <td>1524960284134584000</td>\n",
       "      <td>NaN</td>\n",
       "      <td>NaN</td>\n",
       "      <td>RADMON.PS-10</td>\n",
       "      <td>107.246742</td>\n",
       "    </tr>\n",
       "    <tr>\n",
       "      <th>2</th>\n",
       "      <td>1524960322134942000</td>\n",
       "      <td>NaN</td>\n",
       "      <td>37.560940</td>\n",
       "      <td>RADMON.PS-10</td>\n",
       "      <td>106.504707</td>\n",
       "    </tr>\n",
       "    <tr>\n",
       "      <th>3</th>\n",
       "      <td>1524960353135244000</td>\n",
       "      <td>20.099066</td>\n",
       "      <td>NaN</td>\n",
       "      <td>RADMON.PS-10</td>\n",
       "      <td>107.068654</td>\n",
       "    </tr>\n",
       "    <tr>\n",
       "      <th>4</th>\n",
       "      <td>1524960911140548000</td>\n",
       "      <td>20.111261</td>\n",
       "      <td>37.698135</td>\n",
       "      <td>RADMON.PS-10</td>\n",
       "      <td>106.578911</td>\n",
       "    </tr>\n",
       "  </tbody>\n",
       "</table>\n",
       "</div>"
      ],
      "text/plain": [
       "              acqStamp  voltage_18V  current_18V        device  pt100Value\n",
       "0  1524960103132865000          NaN    37.301794  RADMON.PS-10  106.578911\n",
       "1  1524960284134584000          NaN          NaN  RADMON.PS-10  107.246742\n",
       "2  1524960322134942000          NaN    37.560940  RADMON.PS-10  106.504707\n",
       "3  1524960353135244000    20.099066          NaN  RADMON.PS-10  107.068654\n",
       "4  1524960911140548000    20.111261    37.698135  RADMON.PS-10  106.578911"
      ]
     },
     "execution_count": 8,
     "metadata": {},
     "output_type": "execute_result"
    }
   ],
   "source": [
    "df1.select('acqStamp','voltage_18V','current_18V','device','pt100Value').toPandas()[:5]"
   ]
  },
  {
   "cell_type": "markdown",
   "metadata": {},
   "source": [
    "### Draw a plot with matplotlib"
   ]
  },
  {
   "cell_type": "code",
   "execution_count": 9,
   "metadata": {
    "collapsed": true
   },
   "outputs": [],
   "source": [
    "import matplotlib\n",
    "import pandas as pd\n",
    "%matplotlib inline"
   ]
  },
  {
   "cell_type": "code",
   "execution_count": 10,
   "metadata": {},
   "outputs": [
    {
     "data": {
      "text/plain": [
       "<matplotlib.axes._subplots.AxesSubplot at 0x7f3c71835350>"
      ]
     },
     "execution_count": 10,
     "metadata": {},
     "output_type": "execute_result"
    },
    {
     "data": {
      "image/png": "[encoded data removed]",
      "text/plain": [
       "<matplotlib.figure.Figure at 0x7f3c71667790>"
      ]
     },
     "metadata": {},
     "output_type": "display_data"
    }
   ],
   "source": [
    "p_df = df1.select('acqStamp','current_18V').toPandas()\n",
    "p_df.sort_values(by='acqStamp').plot(pd.to_datetime(p_df['acqStamp'],unit='ns'),'current_18V',figsize=(15,5))"
   ]
  },
  {
   "cell_type": "markdown",
   "metadata": {},
   "source": [
    "### Read TGM data"
   ]
  },
  {
   "cell_type": "code",
   "execution_count": 11,
   "metadata": {
    "collapsed": true
   },
   "outputs": [],
   "source": [
    "tgmQuery = DevicePropertyQueryBuilder().system(\"CMW\").device(\"CPS.TGM\").property(\"FULL-TELEGRAM.STRC\") \\\n",
    "    .start_time(\"2018-04-29 00:00:00.000\").end_time(\"2018-05-01 00:00:00.000\").build()\n",
    "tgmData = spark.read.options(**tgmQuery.get_map()).format(\"cern.accsoft.nxcals.data.access.api\").load()"
   ]
  },
  {
   "cell_type": "code",
   "execution_count": 12,
   "metadata": {},
   "outputs": [
    {
     "data": {
      "text/html": [
       "<div>\n",
       "<style scoped>\n",
       "    .dataframe tbody tr th:only-of-type {\n",
       "        vertical-align: middle;\n",
       "    }\n",
       "\n",
       "    .dataframe tbody tr th {\n",
       "        vertical-align: top;\n",
       "    }\n",
       "\n",
       "    .dataframe thead th {\n",
       "        text-align: right;\n",
       "    }\n",
       "</style>\n",
       "<table border=\"1\" class=\"dataframe\">\n",
       "  <thead>\n",
       "    <tr style=\"text-align: right;\">\n",
       "      <th></th>\n",
       "      <th>BATCH</th>\n",
       "      <th>BEAMID</th>\n",
       "      <th>BPNM</th>\n",
       "      <th>COMLN</th>\n",
       "      <th>CYCLE</th>\n",
       "      <th>CYTAG</th>\n",
       "      <th>DEST</th>\n",
       "      <th>DEST2</th>\n",
       "      <th>DURN</th>\n",
       "      <th>FREE14</th>\n",
       "      <th>...</th>\n",
       "      <th>USER</th>\n",
       "      <th>__record_timestamp__</th>\n",
       "      <th>__record_version__</th>\n",
       "      <th>acqStamp</th>\n",
       "      <th>class</th>\n",
       "      <th>cyclestamp</th>\n",
       "      <th>device</th>\n",
       "      <th>nxcals_entity_id</th>\n",
       "      <th>property</th>\n",
       "      <th>selector</th>\n",
       "    </tr>\n",
       "  </thead>\n",
       "  <tbody>\n",
       "    <tr>\n",
       "      <th>0</th>\n",
       "      <td>0</td>\n",
       "      <td>56006</td>\n",
       "      <td>22</td>\n",
       "      <td>None</td>\n",
       "      <td>19</td>\n",
       "      <td>None</td>\n",
       "      <td>EAST_N</td>\n",
       "      <td>NTOF</td>\n",
       "      <td>2</td>\n",
       "      <td>None</td>\n",
       "      <td>...</td>\n",
       "      <td>EAST2</td>\n",
       "      <td>1524960105100000000</td>\n",
       "      <td>0</td>\n",
       "      <td>1524960105000000000</td>\n",
       "      <td>CPS.TGM</td>\n",
       "      <td>1524960105100000000</td>\n",
       "      <td>CPS.TGM</td>\n",
       "      <td>46955</td>\n",
       "      <td>FULL-TELEGRAM.STRC</td>\n",
       "      <td>CPS.USER.ALL</td>\n",
       "    </tr>\n",
       "    <tr>\n",
       "      <th>1</th>\n",
       "      <td>0</td>\n",
       "      <td>52324</td>\n",
       "      <td>5</td>\n",
       "      <td>None</td>\n",
       "      <td>5</td>\n",
       "      <td>None</td>\n",
       "      <td>TT2_FTA</td>\n",
       "      <td>NONE</td>\n",
       "      <td>2</td>\n",
       "      <td>None</td>\n",
       "      <td>...</td>\n",
       "      <td>AD</td>\n",
       "      <td>1524960689500000000</td>\n",
       "      <td>0</td>\n",
       "      <td>1524960689400000000</td>\n",
       "      <td>CPS.TGM</td>\n",
       "      <td>1524960689500000000</td>\n",
       "      <td>CPS.TGM</td>\n",
       "      <td>46955</td>\n",
       "      <td>FULL-TELEGRAM.STRC</td>\n",
       "      <td>CPS.USER.ALL</td>\n",
       "    </tr>\n",
       "  </tbody>\n",
       "</table>\n",
       "<p>2 rows × 34 columns</p>\n",
       "</div>"
      ],
      "text/plain": [
       "   BATCH  BEAMID  BPNM COMLN  CYCLE CYTAG     DEST DEST2  DURN FREE14  \\\n",
       "0      0   56006    22  None     19  None   EAST_N  NTOF     2   None   \n",
       "1      0   52324     5  None      5  None  TT2_FTA  NONE     2   None   \n",
       "\n",
       "       ...        USER __record_timestamp__ __record_version__  \\\n",
       "0      ...       EAST2  1524960105100000000                  0   \n",
       "1      ...          AD  1524960689500000000                  0   \n",
       "\n",
       "              acqStamp    class           cyclestamp   device  \\\n",
       "0  1524960105000000000  CPS.TGM  1524960105100000000  CPS.TGM   \n",
       "1  1524960689400000000  CPS.TGM  1524960689500000000  CPS.TGM   \n",
       "\n",
       "  nxcals_entity_id            property      selector  \n",
       "0            46955  FULL-TELEGRAM.STRC  CPS.USER.ALL  \n",
       "1            46955  FULL-TELEGRAM.STRC  CPS.USER.ALL  \n",
       "\n",
       "[2 rows x 34 columns]"
      ]
     },
     "execution_count": 12,
     "metadata": {},
     "output_type": "execute_result"
    }
   ],
   "source": [
    "tgmData.toPandas()[:2]"
   ]
  },
  {
   "cell_type": "code",
   "execution_count": 13,
   "metadata": {},
   "outputs": [
    {
     "name": "stdout",
     "output_type": "stream",
     "text": [
      "+-------+-----+\n",
      "|   USER|count|\n",
      "+-------+-----+\n",
      "|  EAST1|  703|\n",
      "|     AD|   96|\n",
      "|   LHC4|   80|\n",
      "|   ZERO| 2613|\n",
      "|  EAST2|  800|\n",
      "|    TOF| 1885|\n",
      "|    MD5|   56|\n",
      "|SFTPRO2| 1602|\n",
      "+-------+-----+\n",
      "\n"
     ]
    }
   ],
   "source": [
    "tgmData.groupBy(\"USER\").count().show()"
   ]
  },
  {
   "cell_type": "code",
   "execution_count": 14,
   "metadata": {},
   "outputs": [
    {
     "name": "stdout",
     "output_type": "stream",
     "text": [
      "+-------------------+----+-------+\n",
      "|         cyclestamp|USER|   DEST|\n",
      "+-------------------+----+-------+\n",
      "|1524960868300000000| TOF|PS_DUMP|\n",
      "|1524960292300000000| TOF|PS_DUMP|\n",
      "|1524960925900000000| TOF|PS_DUMP|\n",
      "|1524960407500000000| TOF|PS_DUMP|\n",
      "|1524961012300000000| TOF|PS_DUMP|\n",
      "|1524960004300000000| TOF|PS_DUMP|\n",
      "|1524960609100000000| TOF|PS_DUMP|\n",
      "|1524960724300000000| TOF|PS_DUMP|\n",
      "|1524960263500000000| TOF|PS_DUMP|\n",
      "|1524960321100000000| TOF|PS_DUMP|\n",
      "|1524960522700000000| TOF|PS_DUMP|\n",
      "|1524960033100000000| TOF|PS_DUMP|\n",
      "|1524960753100000000| TOF|PS_DUMP|\n",
      "|1524960695500000000| TOF|PS_DUMP|\n",
      "|1524960839500000000| TOF|PS_DUMP|\n",
      "|1524960378700000000| TOF|PS_DUMP|\n",
      "|1524960954700000000| TOF|PS_DUMP|\n",
      "|1524960061900000000| TOF|PS_DUMP|\n",
      "|1524960090700000000| TOF|PS_DUMP|\n",
      "|1524960205900000000| TOF|PS_DUMP|\n",
      "+-------------------+----+-------+\n",
      "only showing top 20 rows\n",
      "\n"
     ]
    }
   ],
   "source": [
    "tgm_df_dump = tgmData.select(\"cyclestamp\", \"USER\",\"DEST\").where(\"DEST = 'PS_DUMP' AND USER != 'ZERO'\")\n",
    "tgm_df_dump.show()"
   ]
  },
  {
   "cell_type": "markdown",
   "metadata": {},
   "source": [
    "### Read FTN data"
   ]
  },
  {
   "cell_type": "code",
   "execution_count": 15,
   "metadata": {
    "collapsed": true
   },
   "outputs": [],
   "source": [
    "dataQuery = DevicePropertyQueryBuilder().system(\"CMW\").device(\"FTN.QFO415S\").property(\"Acquisition\") \\\n",
    "    .start_time(\"2018-04-29 00:00:00.000\").end_time(\"2018-05-01 00:00:00.000\").build()\n",
    "data = spark.read.options(**dataQuery.get_map()).format(\"cern.accsoft.nxcals.data.access.api\").load()"
   ]
  },
  {
   "cell_type": "code",
   "execution_count": 16,
   "metadata": {},
   "outputs": [
    {
     "data": {
      "text/html": [
       "<div>\n",
       "<style scoped>\n",
       "    .dataframe tbody tr th:only-of-type {\n",
       "        vertical-align: middle;\n",
       "    }\n",
       "\n",
       "    .dataframe tbody tr th {\n",
       "        vertical-align: top;\n",
       "    }\n",
       "\n",
       "    .dataframe thead th {\n",
       "        text-align: right;\n",
       "    }\n",
       "</style>\n",
       "<table border=\"1\" class=\"dataframe\">\n",
       "  <thead>\n",
       "    <tr style=\"text-align: right;\">\n",
       "      <th></th>\n",
       "      <th>__record_timestamp__</th>\n",
       "      <th>__record_version__</th>\n",
       "      <th>acqStamp</th>\n",
       "      <th>acq_2</th>\n",
       "      <th>class</th>\n",
       "      <th>current</th>\n",
       "      <th>current_max</th>\n",
       "      <th>current_min</th>\n",
       "      <th>current_status</th>\n",
       "      <th>current_tola</th>\n",
       "      <th>current_tolr</th>\n",
       "      <th>current_unit</th>\n",
       "      <th>cyclestamp</th>\n",
       "      <th>device</th>\n",
       "      <th>nxcals_entity_id</th>\n",
       "      <th>property</th>\n",
       "      <th>selector</th>\n",
       "    </tr>\n",
       "  </thead>\n",
       "  <tbody>\n",
       "    <tr>\n",
       "      <th>0</th>\n",
       "      <td>1524954151900000000</td>\n",
       "      <td>0</td>\n",
       "      <td>1524954152000238525</td>\n",
       "      <td>NaN</td>\n",
       "      <td>PowM1553</td>\n",
       "      <td>114.983383</td>\n",
       "      <td>NaN</td>\n",
       "      <td>NaN</td>\n",
       "      <td>None</td>\n",
       "      <td>NaN</td>\n",
       "      <td>NaN</td>\n",
       "      <td>None</td>\n",
       "      <td>1524954151900000000</td>\n",
       "      <td>FTN.QFO415S</td>\n",
       "      <td>54169</td>\n",
       "      <td>Acquisition</td>\n",
       "      <td>CPS.USER.EAST1</td>\n",
       "    </tr>\n",
       "    <tr>\n",
       "      <th>1</th>\n",
       "      <td>1524954300700000000</td>\n",
       "      <td>0</td>\n",
       "      <td>1524954300800238525</td>\n",
       "      <td>NaN</td>\n",
       "      <td>PowM1553</td>\n",
       "      <td>114.983536</td>\n",
       "      <td>NaN</td>\n",
       "      <td>NaN</td>\n",
       "      <td>None</td>\n",
       "      <td>NaN</td>\n",
       "      <td>NaN</td>\n",
       "      <td>None</td>\n",
       "      <td>1524954300700000000</td>\n",
       "      <td>FTN.QFO415S</td>\n",
       "      <td>54169</td>\n",
       "      <td>Acquisition</td>\n",
       "      <td>CPS.USER.ZERO</td>\n",
       "    </tr>\n",
       "  </tbody>\n",
       "</table>\n",
       "</div>"
      ],
      "text/plain": [
       "   __record_timestamp__  __record_version__             acqStamp  acq_2  \\\n",
       "0   1524954151900000000                   0  1524954152000238525    NaN   \n",
       "1   1524954300700000000                   0  1524954300800238525    NaN   \n",
       "\n",
       "      class     current  current_max  current_min current_status  \\\n",
       "0  PowM1553  114.983383          NaN          NaN           None   \n",
       "1  PowM1553  114.983536          NaN          NaN           None   \n",
       "\n",
       "   current_tola  current_tolr current_unit           cyclestamp       device  \\\n",
       "0           NaN           NaN         None  1524954151900000000  FTN.QFO415S   \n",
       "1           NaN           NaN         None  1524954300700000000  FTN.QFO415S   \n",
       "\n",
       "   nxcals_entity_id     property        selector  \n",
       "0             54169  Acquisition  CPS.USER.EAST1  \n",
       "1             54169  Acquisition   CPS.USER.ZERO  "
      ]
     },
     "execution_count": 16,
     "metadata": {},
     "output_type": "execute_result"
    }
   ],
   "source": [
    "data.toPandas()[:2]"
   ]
  },
  {
   "cell_type": "code",
   "execution_count": 17,
   "metadata": {},
   "outputs": [
    {
     "name": "stdout",
     "output_type": "stream",
     "text": [
      "+-------+--------------------+\n",
      "|summary|             current|\n",
      "+-------+--------------------+\n",
      "|  count|                7845|\n",
      "|   mean|  114.98361312642533|\n",
      "| stddev|0.001029377226827...|\n",
      "|    min|           114.97948|\n",
      "|    max|           114.98918|\n",
      "+-------+--------------------+\n",
      "\n"
     ]
    }
   ],
   "source": [
    "data.describe(\"current\").show()"
   ]
  },
  {
   "cell_type": "markdown",
   "metadata": {},
   "source": [
    "### Showing current sum for all *EAST* users:"
   ]
  },
  {
   "cell_type": "code",
   "execution_count": 18,
   "metadata": {},
   "outputs": [
    {
     "name": "stdout",
     "output_type": "stream",
     "text": [
      "+-----------------+\n",
      "|     sum(current)|\n",
      "+-----------------+\n",
      "|173050.3702697754|\n",
      "+-----------------+\n",
      "\n"
     ]
    }
   ],
   "source": [
    "from pyspark.sql.functions import sum\n",
    "data.where(\"selector like '%EAST%'\").select(sum(data.current)).show()"
   ]
  },
  {
   "cell_type": "markdown",
   "metadata": {},
   "source": [
    "### Showing current sum for destination *TOF* using join:"
   ]
  },
  {
   "cell_type": "code",
   "execution_count": 19,
   "metadata": {},
   "outputs": [
    {
     "name": "stdout",
     "output_type": "stream",
     "text": [
      "+------------------+\n",
      "|      sum(current)|\n",
      "+------------------+\n",
      "|183859.02809143066|\n",
      "+------------------+\n",
      "\n"
     ]
    }
   ],
   "source": [
    "tgmFiltered = tgmData.where(\"DEST like '%TOF%'\")\n",
    "tgmFiltered.count()\n",
    "tgmFiltered.join(data, \"cyclestamp\").agg(sum(data.current)).show()"
   ]
  }
 ],
 "metadata": {
  "kernelspec": {
   "display_name": "Python 2",
   "language": "python",
   "name": "python2"
  },
  "language_info": {
   "codemirror_mode": {
    "name": "ipython",
    "version": 2
   },
   "file_extension": ".py",
   "mimetype": "text/x-python",
   "name": "python",
   "nbconvert_exporter": "python",
   "pygments_lexer": "ipython2",
   "version": "2.7.13"
  },
  "sparkconnect": {
   "bundled_options": [
    "NXCALS"
   ],
   "list_of_options": []
  }
 },
 "nbformat": 4,
 "nbformat_minor": 2
}
